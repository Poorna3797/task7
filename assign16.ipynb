{
  "nbformat": 4,
  "nbformat_minor": 0,
  "metadata": {
    "colab": {
      "provenance": [],
      "include_colab_link": true
    },
    "kernelspec": {
      "name": "python3",
      "display_name": "Python 3"
    },
    "language_info": {
      "name": "python"
    }
  },
  "cells": [
    {
      "cell_type": "markdown",
      "metadata": {
        "id": "view-in-github",
        "colab_type": "text"
      },
      "source": [
        "<a href=\"https://colab.research.google.com/github/Poorna3797/task7/blob/main/assign16.ipynb\" target=\"_parent\"><img src=\"https://colab.research.google.com/assets/colab-badge.svg\" alt=\"Open In Colab\"/></a>"
      ]
    },
    {
      "cell_type": "markdown",
      "source": [
        "\n",
        "# **Social-Network-ads-Boost/random_forest_classification**"
      ],
      "metadata": {
        "id": "PTP2f_KVIzC2"
      }
    },
    {
      "cell_type": "code",
      "source": [
        "#Importing Library"
      ],
      "metadata": {
        "id": "tOBdAdovJeU-"
      },
      "execution_count": null,
      "outputs": []
    },
    {
      "cell_type": "code",
      "source": [
        "import numpy as np\n",
        "import pandas as pd\n",
        "import matplotlib.pyplot as plt\n",
        "from sklearn.model_selection import train_test_split"
      ],
      "metadata": {
        "id": "qtFsYKHUJDO6"
      },
      "execution_count": null,
      "outputs": []
    },
    {
      "cell_type": "code",
      "source": [
        "#Importing Dataset"
      ],
      "metadata": {
        "id": "ri8jzyqQJhFU"
      },
      "execution_count": null,
      "outputs": []
    },
    {
      "cell_type": "code",
      "source": [
        "df=pd.read_csv(\"/content/Social_Network_Ads.csv\")\n",
        "df"
      ],
      "metadata": {
        "colab": {
          "base_uri": "https://localhost:8080/",
          "height": 424
        },
        "id": "mm5rNiWoJTwN",
        "outputId": "a25af8a4-d5b2-4b1a-ec1c-3e8e38bc40fd"
      },
      "execution_count": null,
      "outputs": [
        {
          "output_type": "execute_result",
          "data": {
            "text/plain": [
              "      User ID  Gender  Age  EstimatedSalary  Purchased\n",
              "0    15624510    Male   19            19000          0\n",
              "1    15810944    Male   35            20000          0\n",
              "2    15668575  Female   26            43000          0\n",
              "3    15603246  Female   27            57000          0\n",
              "4    15804002    Male   19            76000          0\n",
              "..        ...     ...  ...              ...        ...\n",
              "395  15691863  Female   46            41000          1\n",
              "396  15706071    Male   51            23000          1\n",
              "397  15654296  Female   50            20000          1\n",
              "398  15755018    Male   36            33000          0\n",
              "399  15594041  Female   49            36000          1\n",
              "\n",
              "[400 rows x 5 columns]"
            ],
            "text/html": [
              "\n",
              "  <div id=\"df-8000c439-803d-4115-b669-0405aa02e559\">\n",
              "    <div class=\"colab-df-container\">\n",
              "      <div>\n",
              "<style scoped>\n",
              "    .dataframe tbody tr th:only-of-type {\n",
              "        vertical-align: middle;\n",
              "    }\n",
              "\n",
              "    .dataframe tbody tr th {\n",
              "        vertical-align: top;\n",
              "    }\n",
              "\n",
              "    .dataframe thead th {\n",
              "        text-align: right;\n",
              "    }\n",
              "</style>\n",
              "<table border=\"1\" class=\"dataframe\">\n",
              "  <thead>\n",
              "    <tr style=\"text-align: right;\">\n",
              "      <th></th>\n",
              "      <th>User ID</th>\n",
              "      <th>Gender</th>\n",
              "      <th>Age</th>\n",
              "      <th>EstimatedSalary</th>\n",
              "      <th>Purchased</th>\n",
              "    </tr>\n",
              "  </thead>\n",
              "  <tbody>\n",
              "    <tr>\n",
              "      <th>0</th>\n",
              "      <td>15624510</td>\n",
              "      <td>Male</td>\n",
              "      <td>19</td>\n",
              "      <td>19000</td>\n",
              "      <td>0</td>\n",
              "    </tr>\n",
              "    <tr>\n",
              "      <th>1</th>\n",
              "      <td>15810944</td>\n",
              "      <td>Male</td>\n",
              "      <td>35</td>\n",
              "      <td>20000</td>\n",
              "      <td>0</td>\n",
              "    </tr>\n",
              "    <tr>\n",
              "      <th>2</th>\n",
              "      <td>15668575</td>\n",
              "      <td>Female</td>\n",
              "      <td>26</td>\n",
              "      <td>43000</td>\n",
              "      <td>0</td>\n",
              "    </tr>\n",
              "    <tr>\n",
              "      <th>3</th>\n",
              "      <td>15603246</td>\n",
              "      <td>Female</td>\n",
              "      <td>27</td>\n",
              "      <td>57000</td>\n",
              "      <td>0</td>\n",
              "    </tr>\n",
              "    <tr>\n",
              "      <th>4</th>\n",
              "      <td>15804002</td>\n",
              "      <td>Male</td>\n",
              "      <td>19</td>\n",
              "      <td>76000</td>\n",
              "      <td>0</td>\n",
              "    </tr>\n",
              "    <tr>\n",
              "      <th>...</th>\n",
              "      <td>...</td>\n",
              "      <td>...</td>\n",
              "      <td>...</td>\n",
              "      <td>...</td>\n",
              "      <td>...</td>\n",
              "    </tr>\n",
              "    <tr>\n",
              "      <th>395</th>\n",
              "      <td>15691863</td>\n",
              "      <td>Female</td>\n",
              "      <td>46</td>\n",
              "      <td>41000</td>\n",
              "      <td>1</td>\n",
              "    </tr>\n",
              "    <tr>\n",
              "      <th>396</th>\n",
              "      <td>15706071</td>\n",
              "      <td>Male</td>\n",
              "      <td>51</td>\n",
              "      <td>23000</td>\n",
              "      <td>1</td>\n",
              "    </tr>\n",
              "    <tr>\n",
              "      <th>397</th>\n",
              "      <td>15654296</td>\n",
              "      <td>Female</td>\n",
              "      <td>50</td>\n",
              "      <td>20000</td>\n",
              "      <td>1</td>\n",
              "    </tr>\n",
              "    <tr>\n",
              "      <th>398</th>\n",
              "      <td>15755018</td>\n",
              "      <td>Male</td>\n",
              "      <td>36</td>\n",
              "      <td>33000</td>\n",
              "      <td>0</td>\n",
              "    </tr>\n",
              "    <tr>\n",
              "      <th>399</th>\n",
              "      <td>15594041</td>\n",
              "      <td>Female</td>\n",
              "      <td>49</td>\n",
              "      <td>36000</td>\n",
              "      <td>1</td>\n",
              "    </tr>\n",
              "  </tbody>\n",
              "</table>\n",
              "<p>400 rows × 5 columns</p>\n",
              "</div>\n",
              "      <button class=\"colab-df-convert\" onclick=\"convertToInteractive('df-8000c439-803d-4115-b669-0405aa02e559')\"\n",
              "              title=\"Convert this dataframe to an interactive table.\"\n",
              "              style=\"display:none;\">\n",
              "        \n",
              "  <svg xmlns=\"http://www.w3.org/2000/svg\" height=\"24px\"viewBox=\"0 0 24 24\"\n",
              "       width=\"24px\">\n",
              "    <path d=\"M0 0h24v24H0V0z\" fill=\"none\"/>\n",
              "    <path d=\"M18.56 5.44l.94 2.06.94-2.06 2.06-.94-2.06-.94-.94-2.06-.94 2.06-2.06.94zm-11 1L8.5 8.5l.94-2.06 2.06-.94-2.06-.94L8.5 2.5l-.94 2.06-2.06.94zm10 10l.94 2.06.94-2.06 2.06-.94-2.06-.94-.94-2.06-.94 2.06-2.06.94z\"/><path d=\"M17.41 7.96l-1.37-1.37c-.4-.4-.92-.59-1.43-.59-.52 0-1.04.2-1.43.59L10.3 9.45l-7.72 7.72c-.78.78-.78 2.05 0 2.83L4 21.41c.39.39.9.59 1.41.59.51 0 1.02-.2 1.41-.59l7.78-7.78 2.81-2.81c.8-.78.8-2.07 0-2.86zM5.41 20L4 18.59l7.72-7.72 1.47 1.35L5.41 20z\"/>\n",
              "  </svg>\n",
              "      </button>\n",
              "      \n",
              "  <style>\n",
              "    .colab-df-container {\n",
              "      display:flex;\n",
              "      flex-wrap:wrap;\n",
              "      gap: 12px;\n",
              "    }\n",
              "\n",
              "    .colab-df-convert {\n",
              "      background-color: #E8F0FE;\n",
              "      border: none;\n",
              "      border-radius: 50%;\n",
              "      cursor: pointer;\n",
              "      display: none;\n",
              "      fill: #1967D2;\n",
              "      height: 32px;\n",
              "      padding: 0 0 0 0;\n",
              "      width: 32px;\n",
              "    }\n",
              "\n",
              "    .colab-df-convert:hover {\n",
              "      background-color: #E2EBFA;\n",
              "      box-shadow: 0px 1px 2px rgba(60, 64, 67, 0.3), 0px 1px 3px 1px rgba(60, 64, 67, 0.15);\n",
              "      fill: #174EA6;\n",
              "    }\n",
              "\n",
              "    [theme=dark] .colab-df-convert {\n",
              "      background-color: #3B4455;\n",
              "      fill: #D2E3FC;\n",
              "    }\n",
              "\n",
              "    [theme=dark] .colab-df-convert:hover {\n",
              "      background-color: #434B5C;\n",
              "      box-shadow: 0px 1px 3px 1px rgba(0, 0, 0, 0.15);\n",
              "      filter: drop-shadow(0px 1px 2px rgba(0, 0, 0, 0.3));\n",
              "      fill: #FFFFFF;\n",
              "    }\n",
              "  </style>\n",
              "\n",
              "      <script>\n",
              "        const buttonEl =\n",
              "          document.querySelector('#df-8000c439-803d-4115-b669-0405aa02e559 button.colab-df-convert');\n",
              "        buttonEl.style.display =\n",
              "          google.colab.kernel.accessAllowed ? 'block' : 'none';\n",
              "\n",
              "        async function convertToInteractive(key) {\n",
              "          const element = document.querySelector('#df-8000c439-803d-4115-b669-0405aa02e559');\n",
              "          const dataTable =\n",
              "            await google.colab.kernel.invokeFunction('convertToInteractive',\n",
              "                                                     [key], {});\n",
              "          if (!dataTable) return;\n",
              "\n",
              "          const docLinkHtml = 'Like what you see? Visit the ' +\n",
              "            '<a target=\"_blank\" href=https://colab.research.google.com/notebooks/data_table.ipynb>data table notebook</a>'\n",
              "            + ' to learn more about interactive tables.';\n",
              "          element.innerHTML = '';\n",
              "          dataTable['output_type'] = 'display_data';\n",
              "          await google.colab.output.renderOutput(dataTable, element);\n",
              "          const docLink = document.createElement('div');\n",
              "          docLink.innerHTML = docLinkHtml;\n",
              "          element.appendChild(docLink);\n",
              "        }\n",
              "      </script>\n",
              "    </div>\n",
              "  </div>\n",
              "  "
            ]
          },
          "metadata": {},
          "execution_count": 3
        }
      ]
    },
    {
      "cell_type": "code",
      "source": [
        "x=df.iloc[:,[2,3]].values\n",
        "y=df.iloc[:,4].values\n",
        "x,y"
      ],
      "metadata": {
        "colab": {
          "base_uri": "https://localhost:8080/"
        },
        "id": "nhF1JoyTLc6z",
        "outputId": "3e1148a5-6ee5-4a0e-f87a-b31c535ab861"
      },
      "execution_count": null,
      "outputs": [
        {
          "output_type": "execute_result",
          "data": {
            "text/plain": [
              "(array([[    19,  19000],\n",
              "        [    35,  20000],\n",
              "        [    26,  43000],\n",
              "        [    27,  57000],\n",
              "        [    19,  76000],\n",
              "        [    27,  58000],\n",
              "        [    27,  84000],\n",
              "        [    32, 150000],\n",
              "        [    25,  33000],\n",
              "        [    35,  65000],\n",
              "        [    26,  80000],\n",
              "        [    26,  52000],\n",
              "        [    20,  86000],\n",
              "        [    32,  18000],\n",
              "        [    18,  82000],\n",
              "        [    29,  80000],\n",
              "        [    47,  25000],\n",
              "        [    45,  26000],\n",
              "        [    46,  28000],\n",
              "        [    48,  29000],\n",
              "        [    45,  22000],\n",
              "        [    47,  49000],\n",
              "        [    48,  41000],\n",
              "        [    45,  22000],\n",
              "        [    46,  23000],\n",
              "        [    47,  20000],\n",
              "        [    49,  28000],\n",
              "        [    47,  30000],\n",
              "        [    29,  43000],\n",
              "        [    31,  18000],\n",
              "        [    31,  74000],\n",
              "        [    27, 137000],\n",
              "        [    21,  16000],\n",
              "        [    28,  44000],\n",
              "        [    27,  90000],\n",
              "        [    35,  27000],\n",
              "        [    33,  28000],\n",
              "        [    30,  49000],\n",
              "        [    26,  72000],\n",
              "        [    27,  31000],\n",
              "        [    27,  17000],\n",
              "        [    33,  51000],\n",
              "        [    35, 108000],\n",
              "        [    30,  15000],\n",
              "        [    28,  84000],\n",
              "        [    23,  20000],\n",
              "        [    25,  79000],\n",
              "        [    27,  54000],\n",
              "        [    30, 135000],\n",
              "        [    31,  89000],\n",
              "        [    24,  32000],\n",
              "        [    18,  44000],\n",
              "        [    29,  83000],\n",
              "        [    35,  23000],\n",
              "        [    27,  58000],\n",
              "        [    24,  55000],\n",
              "        [    23,  48000],\n",
              "        [    28,  79000],\n",
              "        [    22,  18000],\n",
              "        [    32, 117000],\n",
              "        [    27,  20000],\n",
              "        [    25,  87000],\n",
              "        [    23,  66000],\n",
              "        [    32, 120000],\n",
              "        [    59,  83000],\n",
              "        [    24,  58000],\n",
              "        [    24,  19000],\n",
              "        [    23,  82000],\n",
              "        [    22,  63000],\n",
              "        [    31,  68000],\n",
              "        [    25,  80000],\n",
              "        [    24,  27000],\n",
              "        [    20,  23000],\n",
              "        [    33, 113000],\n",
              "        [    32,  18000],\n",
              "        [    34, 112000],\n",
              "        [    18,  52000],\n",
              "        [    22,  27000],\n",
              "        [    28,  87000],\n",
              "        [    26,  17000],\n",
              "        [    30,  80000],\n",
              "        [    39,  42000],\n",
              "        [    20,  49000],\n",
              "        [    35,  88000],\n",
              "        [    30,  62000],\n",
              "        [    31, 118000],\n",
              "        [    24,  55000],\n",
              "        [    28,  85000],\n",
              "        [    26,  81000],\n",
              "        [    35,  50000],\n",
              "        [    22,  81000],\n",
              "        [    30, 116000],\n",
              "        [    26,  15000],\n",
              "        [    29,  28000],\n",
              "        [    29,  83000],\n",
              "        [    35,  44000],\n",
              "        [    35,  25000],\n",
              "        [    28, 123000],\n",
              "        [    35,  73000],\n",
              "        [    28,  37000],\n",
              "        [    27,  88000],\n",
              "        [    28,  59000],\n",
              "        [    32,  86000],\n",
              "        [    33, 149000],\n",
              "        [    19,  21000],\n",
              "        [    21,  72000],\n",
              "        [    26,  35000],\n",
              "        [    27,  89000],\n",
              "        [    26,  86000],\n",
              "        [    38,  80000],\n",
              "        [    39,  71000],\n",
              "        [    37,  71000],\n",
              "        [    38,  61000],\n",
              "        [    37,  55000],\n",
              "        [    42,  80000],\n",
              "        [    40,  57000],\n",
              "        [    35,  75000],\n",
              "        [    36,  52000],\n",
              "        [    40,  59000],\n",
              "        [    41,  59000],\n",
              "        [    36,  75000],\n",
              "        [    37,  72000],\n",
              "        [    40,  75000],\n",
              "        [    35,  53000],\n",
              "        [    41,  51000],\n",
              "        [    39,  61000],\n",
              "        [    42,  65000],\n",
              "        [    26,  32000],\n",
              "        [    30,  17000],\n",
              "        [    26,  84000],\n",
              "        [    31,  58000],\n",
              "        [    33,  31000],\n",
              "        [    30,  87000],\n",
              "        [    21,  68000],\n",
              "        [    28,  55000],\n",
              "        [    23,  63000],\n",
              "        [    20,  82000],\n",
              "        [    30, 107000],\n",
              "        [    28,  59000],\n",
              "        [    19,  25000],\n",
              "        [    19,  85000],\n",
              "        [    18,  68000],\n",
              "        [    35,  59000],\n",
              "        [    30,  89000],\n",
              "        [    34,  25000],\n",
              "        [    24,  89000],\n",
              "        [    27,  96000],\n",
              "        [    41,  30000],\n",
              "        [    29,  61000],\n",
              "        [    20,  74000],\n",
              "        [    26,  15000],\n",
              "        [    41,  45000],\n",
              "        [    31,  76000],\n",
              "        [    36,  50000],\n",
              "        [    40,  47000],\n",
              "        [    31,  15000],\n",
              "        [    46,  59000],\n",
              "        [    29,  75000],\n",
              "        [    26,  30000],\n",
              "        [    32, 135000],\n",
              "        [    32, 100000],\n",
              "        [    25,  90000],\n",
              "        [    37,  33000],\n",
              "        [    35,  38000],\n",
              "        [    33,  69000],\n",
              "        [    18,  86000],\n",
              "        [    22,  55000],\n",
              "        [    35,  71000],\n",
              "        [    29, 148000],\n",
              "        [    29,  47000],\n",
              "        [    21,  88000],\n",
              "        [    34, 115000],\n",
              "        [    26, 118000],\n",
              "        [    34,  43000],\n",
              "        [    34,  72000],\n",
              "        [    23,  28000],\n",
              "        [    35,  47000],\n",
              "        [    25,  22000],\n",
              "        [    24,  23000],\n",
              "        [    31,  34000],\n",
              "        [    26,  16000],\n",
              "        [    31,  71000],\n",
              "        [    32, 117000],\n",
              "        [    33,  43000],\n",
              "        [    33,  60000],\n",
              "        [    31,  66000],\n",
              "        [    20,  82000],\n",
              "        [    33,  41000],\n",
              "        [    35,  72000],\n",
              "        [    28,  32000],\n",
              "        [    24,  84000],\n",
              "        [    19,  26000],\n",
              "        [    29,  43000],\n",
              "        [    19,  70000],\n",
              "        [    28,  89000],\n",
              "        [    34,  43000],\n",
              "        [    30,  79000],\n",
              "        [    20,  36000],\n",
              "        [    26,  80000],\n",
              "        [    35,  22000],\n",
              "        [    35,  39000],\n",
              "        [    49,  74000],\n",
              "        [    39, 134000],\n",
              "        [    41,  71000],\n",
              "        [    58, 101000],\n",
              "        [    47,  47000],\n",
              "        [    55, 130000],\n",
              "        [    52, 114000],\n",
              "        [    40, 142000],\n",
              "        [    46,  22000],\n",
              "        [    48,  96000],\n",
              "        [    52, 150000],\n",
              "        [    59,  42000],\n",
              "        [    35,  58000],\n",
              "        [    47,  43000],\n",
              "        [    60, 108000],\n",
              "        [    49,  65000],\n",
              "        [    40,  78000],\n",
              "        [    46,  96000],\n",
              "        [    59, 143000],\n",
              "        [    41,  80000],\n",
              "        [    35,  91000],\n",
              "        [    37, 144000],\n",
              "        [    60, 102000],\n",
              "        [    35,  60000],\n",
              "        [    37,  53000],\n",
              "        [    36, 126000],\n",
              "        [    56, 133000],\n",
              "        [    40,  72000],\n",
              "        [    42,  80000],\n",
              "        [    35, 147000],\n",
              "        [    39,  42000],\n",
              "        [    40, 107000],\n",
              "        [    49,  86000],\n",
              "        [    38, 112000],\n",
              "        [    46,  79000],\n",
              "        [    40,  57000],\n",
              "        [    37,  80000],\n",
              "        [    46,  82000],\n",
              "        [    53, 143000],\n",
              "        [    42, 149000],\n",
              "        [    38,  59000],\n",
              "        [    50,  88000],\n",
              "        [    56, 104000],\n",
              "        [    41,  72000],\n",
              "        [    51, 146000],\n",
              "        [    35,  50000],\n",
              "        [    57, 122000],\n",
              "        [    41,  52000],\n",
              "        [    35,  97000],\n",
              "        [    44,  39000],\n",
              "        [    37,  52000],\n",
              "        [    48, 134000],\n",
              "        [    37, 146000],\n",
              "        [    50,  44000],\n",
              "        [    52,  90000],\n",
              "        [    41,  72000],\n",
              "        [    40,  57000],\n",
              "        [    58,  95000],\n",
              "        [    45, 131000],\n",
              "        [    35,  77000],\n",
              "        [    36, 144000],\n",
              "        [    55, 125000],\n",
              "        [    35,  72000],\n",
              "        [    48,  90000],\n",
              "        [    42, 108000],\n",
              "        [    40,  75000],\n",
              "        [    37,  74000],\n",
              "        [    47, 144000],\n",
              "        [    40,  61000],\n",
              "        [    43, 133000],\n",
              "        [    59,  76000],\n",
              "        [    60,  42000],\n",
              "        [    39, 106000],\n",
              "        [    57,  26000],\n",
              "        [    57,  74000],\n",
              "        [    38,  71000],\n",
              "        [    49,  88000],\n",
              "        [    52,  38000],\n",
              "        [    50,  36000],\n",
              "        [    59,  88000],\n",
              "        [    35,  61000],\n",
              "        [    37,  70000],\n",
              "        [    52,  21000],\n",
              "        [    48, 141000],\n",
              "        [    37,  93000],\n",
              "        [    37,  62000],\n",
              "        [    48, 138000],\n",
              "        [    41,  79000],\n",
              "        [    37,  78000],\n",
              "        [    39, 134000],\n",
              "        [    49,  89000],\n",
              "        [    55,  39000],\n",
              "        [    37,  77000],\n",
              "        [    35,  57000],\n",
              "        [    36,  63000],\n",
              "        [    42,  73000],\n",
              "        [    43, 112000],\n",
              "        [    45,  79000],\n",
              "        [    46, 117000],\n",
              "        [    58,  38000],\n",
              "        [    48,  74000],\n",
              "        [    37, 137000],\n",
              "        [    37,  79000],\n",
              "        [    40,  60000],\n",
              "        [    42,  54000],\n",
              "        [    51, 134000],\n",
              "        [    47, 113000],\n",
              "        [    36, 125000],\n",
              "        [    38,  50000],\n",
              "        [    42,  70000],\n",
              "        [    39,  96000],\n",
              "        [    38,  50000],\n",
              "        [    49, 141000],\n",
              "        [    39,  79000],\n",
              "        [    39,  75000],\n",
              "        [    54, 104000],\n",
              "        [    35,  55000],\n",
              "        [    45,  32000],\n",
              "        [    36,  60000],\n",
              "        [    52, 138000],\n",
              "        [    53,  82000],\n",
              "        [    41,  52000],\n",
              "        [    48,  30000],\n",
              "        [    48, 131000],\n",
              "        [    41,  60000],\n",
              "        [    41,  72000],\n",
              "        [    42,  75000],\n",
              "        [    36, 118000],\n",
              "        [    47, 107000],\n",
              "        [    38,  51000],\n",
              "        [    48, 119000],\n",
              "        [    42,  65000],\n",
              "        [    40,  65000],\n",
              "        [    57,  60000],\n",
              "        [    36,  54000],\n",
              "        [    58, 144000],\n",
              "        [    35,  79000],\n",
              "        [    38,  55000],\n",
              "        [    39, 122000],\n",
              "        [    53, 104000],\n",
              "        [    35,  75000],\n",
              "        [    38,  65000],\n",
              "        [    47,  51000],\n",
              "        [    47, 105000],\n",
              "        [    41,  63000],\n",
              "        [    53,  72000],\n",
              "        [    54, 108000],\n",
              "        [    39,  77000],\n",
              "        [    38,  61000],\n",
              "        [    38, 113000],\n",
              "        [    37,  75000],\n",
              "        [    42,  90000],\n",
              "        [    37,  57000],\n",
              "        [    36,  99000],\n",
              "        [    60,  34000],\n",
              "        [    54,  70000],\n",
              "        [    41,  72000],\n",
              "        [    40,  71000],\n",
              "        [    42,  54000],\n",
              "        [    43, 129000],\n",
              "        [    53,  34000],\n",
              "        [    47,  50000],\n",
              "        [    42,  79000],\n",
              "        [    42, 104000],\n",
              "        [    59,  29000],\n",
              "        [    58,  47000],\n",
              "        [    46,  88000],\n",
              "        [    38,  71000],\n",
              "        [    54,  26000],\n",
              "        [    60,  46000],\n",
              "        [    60,  83000],\n",
              "        [    39,  73000],\n",
              "        [    59, 130000],\n",
              "        [    37,  80000],\n",
              "        [    46,  32000],\n",
              "        [    46,  74000],\n",
              "        [    42,  53000],\n",
              "        [    41,  87000],\n",
              "        [    58,  23000],\n",
              "        [    42,  64000],\n",
              "        [    48,  33000],\n",
              "        [    44, 139000],\n",
              "        [    49,  28000],\n",
              "        [    57,  33000],\n",
              "        [    56,  60000],\n",
              "        [    49,  39000],\n",
              "        [    39,  71000],\n",
              "        [    47,  34000],\n",
              "        [    48,  35000],\n",
              "        [    48,  33000],\n",
              "        [    47,  23000],\n",
              "        [    45,  45000],\n",
              "        [    60,  42000],\n",
              "        [    39,  59000],\n",
              "        [    46,  41000],\n",
              "        [    51,  23000],\n",
              "        [    50,  20000],\n",
              "        [    36,  33000],\n",
              "        [    49,  36000]]),\n",
              " array([0, 0, 0, 0, 0, 0, 0, 1, 0, 0, 0, 0, 0, 0, 0, 0, 1, 1, 1, 1, 1, 1,\n",
              "        1, 1, 1, 1, 1, 1, 0, 0, 0, 1, 0, 0, 0, 0, 0, 0, 0, 0, 0, 0, 0, 0,\n",
              "        0, 0, 0, 0, 1, 0, 0, 0, 0, 0, 0, 0, 0, 0, 0, 0, 0, 0, 0, 1, 0, 0,\n",
              "        0, 0, 0, 0, 0, 0, 0, 0, 0, 1, 0, 0, 0, 0, 0, 0, 0, 0, 0, 1, 0, 0,\n",
              "        0, 0, 0, 0, 0, 0, 0, 0, 0, 1, 0, 0, 0, 0, 0, 1, 0, 0, 0, 0, 0, 0,\n",
              "        0, 0, 0, 0, 0, 0, 0, 0, 0, 0, 0, 0, 0, 0, 0, 0, 0, 0, 0, 0, 0, 0,\n",
              "        0, 0, 0, 0, 0, 1, 0, 0, 0, 0, 0, 0, 0, 0, 1, 0, 0, 0, 0, 0, 0, 0,\n",
              "        0, 0, 0, 0, 0, 1, 1, 0, 0, 0, 0, 0, 0, 0, 1, 0, 0, 0, 0, 0, 0, 0,\n",
              "        0, 0, 0, 0, 0, 0, 1, 0, 0, 0, 0, 0, 0, 0, 0, 0, 0, 0, 0, 0, 0, 0,\n",
              "        0, 0, 0, 0, 1, 0, 1, 0, 1, 0, 1, 0, 1, 1, 0, 0, 0, 1, 0, 0, 0, 1,\n",
              "        0, 1, 1, 1, 0, 0, 1, 1, 0, 1, 1, 0, 1, 1, 0, 1, 0, 0, 0, 1, 1, 0,\n",
              "        1, 1, 0, 1, 0, 1, 0, 1, 0, 0, 1, 1, 0, 1, 0, 0, 1, 1, 0, 1, 1, 0,\n",
              "        1, 1, 0, 0, 1, 0, 0, 1, 1, 1, 1, 1, 0, 1, 1, 1, 1, 0, 1, 1, 0, 1,\n",
              "        0, 1, 0, 1, 1, 1, 1, 0, 0, 0, 1, 1, 0, 1, 1, 1, 1, 1, 0, 0, 0, 1,\n",
              "        1, 0, 0, 1, 0, 1, 0, 1, 1, 0, 1, 0, 1, 1, 0, 1, 1, 0, 0, 0, 1, 1,\n",
              "        0, 1, 0, 0, 1, 0, 1, 0, 0, 1, 1, 0, 0, 1, 1, 0, 1, 1, 0, 0, 1, 0,\n",
              "        1, 0, 1, 1, 1, 0, 1, 0, 1, 1, 1, 0, 1, 1, 1, 1, 0, 1, 1, 1, 0, 1,\n",
              "        0, 1, 0, 0, 1, 1, 0, 1, 1, 1, 1, 1, 1, 0, 1, 1, 1, 1, 1, 1, 0, 1,\n",
              "        1, 1, 0, 1]))"
            ]
          },
          "metadata": {},
          "execution_count": 16
        }
      ]
    },
    {
      "cell_type": "code",
      "source": [
        "#Splitting the dataset into the Training set and Test set\n",
        "x_train,x_test,y_train,y_test=train_test_split(x,y,test_size=0.20)\n"
      ],
      "metadata": {
        "id": "Epj8or52Jlzq"
      },
      "execution_count": null,
      "outputs": []
    },
    {
      "cell_type": "code",
      "source": [
        "x_train.shape,y_train.shape,x_test.shape,y_test.shape   "
      ],
      "metadata": {
        "colab": {
          "base_uri": "https://localhost:8080/"
        },
        "id": "ITS0wzZvJlwS",
        "outputId": "45c98249-bf49-436e-e927-43151b4745ed"
      },
      "execution_count": null,
      "outputs": [
        {
          "output_type": "execute_result",
          "data": {
            "text/plain": [
              "((320, 2), (320,), (80, 2), (80,))"
            ]
          },
          "metadata": {},
          "execution_count": 18
        }
      ]
    },
    {
      "cell_type": "code",
      "source": [
        "# Feature Scaling"
      ],
      "metadata": {
        "id": "jGFDhOUMJluD"
      },
      "execution_count": null,
      "outputs": []
    },
    {
      "cell_type": "code",
      "source": [
        "from sklearn.preprocessing import StandardScaler\n",
        "sc=StandardScaler()\n",
        "x_train=sc.fit_transform(x_train)\n",
        "x_test=sc.fit_transform(x_test)\n"
      ],
      "metadata": {
        "id": "jNp2K7h8JlrR"
      },
      "execution_count": null,
      "outputs": []
    },
    {
      "cell_type": "code",
      "source": [
        "# Fitting Random Forest Classification to the Training set"
      ],
      "metadata": {
        "id": "JBebazfyJlom"
      },
      "execution_count": null,
      "outputs": []
    },
    {
      "cell_type": "code",
      "source": [
        "from sklearn.ensemble import RandomForestClassifier\n",
        "classifier=RandomForestClassifier(criterion=\"entropy\", random_state = 0)\n",
        "classifier.fit(x_train,y_train)"
      ],
      "metadata": {
        "colab": {
          "base_uri": "https://localhost:8080/"
        },
        "id": "id_ARJdTJllt",
        "outputId": "286800a1-45cf-4301-f78a-c12fa98e4a42"
      },
      "execution_count": null,
      "outputs": [
        {
          "output_type": "execute_result",
          "data": {
            "text/plain": [
              "RandomForestClassifier(criterion='entropy', random_state=0)"
            ]
          },
          "metadata": {},
          "execution_count": 30
        }
      ]
    },
    {
      "cell_type": "code",
      "source": [
        "# Predicting the Test set results"
      ],
      "metadata": {
        "id": "HPXVS7V_JljD"
      },
      "execution_count": null,
      "outputs": []
    },
    {
      "cell_type": "code",
      "source": [
        "y_pred=classifier.predict(x_test)"
      ],
      "metadata": {
        "id": "q16JToCXJlgL"
      },
      "execution_count": null,
      "outputs": []
    },
    {
      "cell_type": "code",
      "source": [
        "# Making the Confusion Matrix"
      ],
      "metadata": {
        "id": "kHXfib7RJldU"
      },
      "execution_count": null,
      "outputs": []
    },
    {
      "cell_type": "code",
      "source": [
        "from sklearn.metrics import confusion_matrix\n",
        "cm=confusion_matrix(y_test,y_pred)"
      ],
      "metadata": {
        "id": "WCAsaTC_Jlan"
      },
      "execution_count": null,
      "outputs": []
    },
    {
      "cell_type": "code",
      "source": [
        "# Visualising the Training set results"
      ],
      "metadata": {
        "id": "ZOhmkVgBJlX2"
      },
      "execution_count": null,
      "outputs": []
    },
    {
      "cell_type": "code",
      "source": [
        "from matplotlib.colors import ListedColormap\n",
        "x_set, y_set = x_train, y_train\n",
        "x1, x2 = np.meshgrid(np.arange(start = x_set[:, 0].min() - 1, stop = x_set[:, 0].max() + 1, step = 0.01),\n",
        "                     np.arange(start = x_set[:, 1].min() - 1, stop = x_set[:, 1].max() + 1, step = 0.01))\n",
        "plt.contourf(x1, x2, classifier.predict(np.array([x1.ravel(), x2.ravel()]).T).reshape(x1.shape),\n",
        "             alpha = 0.75, cmap = ListedColormap(('red', 'green')))\n",
        "plt.xlim(x1.min(), x1.max())\n",
        "plt.ylim(x2.min(), x2.max())\n",
        "for i, j in enumerate(np.unique(y_set)):\n",
        "    plt.scatter(x_set[y_set == j, 0], x_set[y_set == j, 1],\n",
        "                c = ListedColormap(('red', 'green'))(i), label = j)\n",
        "    plt.title('Random Forest Classification (Training set)')\n",
        "    plt.xlabel('Age')\n",
        "    plt.ylabel('Estimated Salary')\n",
        "    plt.legend()\n",
        "    plt.show()"
      ],
      "metadata": {
        "colab": {
          "base_uri": "https://localhost:8080/",
          "height": 628
        },
        "id": "s4ttoCLFJlVM",
        "outputId": "0faee545-18a1-4221-dd7b-63edd830bfb3"
      },
      "execution_count": null,
      "outputs": [
        {
          "output_type": "stream",
          "name": "stderr",
          "text": [
            "WARNING:matplotlib.axes._axes:*c* argument looks like a single numeric RGB or RGBA sequence, which should be avoided as value-mapping will have precedence in case its length matches with *x* & *y*.  Please use the *color* keyword-argument or provide a 2-D array with a single row if you intend to specify the same RGB or RGBA value for all points.\n"
          ]
        },
        {
          "output_type": "display_data",
          "data": {
            "text/plain": [
              "<Figure size 432x288 with 1 Axes>"
            ],
            "image/png": "[encoded data removed]"
          },
          "metadata": {
            "needs_background": "light"
          }
        },
        {
          "output_type": "stream",
          "name": "stderr",
          "text": [
            "WARNING:matplotlib.axes._axes:*c* argument looks like a single numeric RGB or RGBA sequence, which should be avoided as value-mapping will have precedence in case its length matches with *x* & *y*.  Please use the *color* keyword-argument or provide a 2-D array with a single row if you intend to specify the same RGB or RGBA value for all points.\n"
          ]
        },
        {
          "output_type": "display_data",
          "data": {
            "text/plain": [
              "<Figure size 432x288 with 1 Axes>"
            ],
            "image/png": "[encoded data removed]"
          },
          "metadata": {
            "needs_background": "light"
          }
        }
      ]
    },
    {
      "cell_type": "code",
      "source": [
        "# Visualising the Test set results"
      ],
      "metadata": {
        "id": "v4gmQDDpJlSg"
      },
      "execution_count": null,
      "outputs": []
    },
    {
      "cell_type": "code",
      "source": [
        "x_set,y_set=x_test,y_test\n",
        "x1,x2=np.meshgrid(np.arange(start=x_set[:,0].min()-1,stop=x_set[:,0].max()+1,step=0.01),np.arange(start=x_set[:,1].min()-1,stop=x_set[:,1].max()+1,step=0.01))\n",
        "plt.contourf(x1,x2,classifier.predict(np.array([x1.ravel(),x2.ravel()]).T).reshape(x1.shape),alpha=0.75,cmap=ListedColormap(('red','blue')))\n",
        "plt.xlim(x1.min(),x1.max())\n",
        "plt.ylim(x2.min(),x2.max())\n",
        "\n",
        "for i,j in enumerate(np.unique(y_set)):\n",
        "  plt.scatter(x_set[y_set==j,0],x_set[y_set==j,1],c=ListedColormap(('red','blue'))(i),label=j)\n",
        "  plt.title('Random Forest Classification (Test Set)')\n",
        "  plt.xlabel('Age')\n",
        "  plt.ylabel('Estimated Salary')\n",
        "  plt.legend()\n",
        "  plt.show()\n"
      ],
      "metadata": {
        "colab": {
          "base_uri": "https://localhost:8080/",
          "height": 628
        },
        "id": "QefFJQX7JlPy",
        "outputId": "70dfc342-5f00-4f3a-d44f-1c06096feabf"
      },
      "execution_count": null,
      "outputs": [
        {
          "output_type": "stream",
          "name": "stderr",
          "text": [
            "WARNING:matplotlib.axes._axes:*c* argument looks like a single numeric RGB or RGBA sequence, which should be avoided as value-mapping will have precedence in case its length matches with *x* & *y*.  Please use the *color* keyword-argument or provide a 2-D array with a single row if you intend to specify the same RGB or RGBA value for all points.\n"
          ]
        },
        {
          "output_type": "display_data",
          "data": {
            "text/plain": [
              "<Figure size 432x288 with 1 Axes>"
            ],
            "image/png": "[encoded data removed]"
          },
          "metadata": {
            "needs_background": "light"
          }
        },
        {
          "output_type": "stream",
          "name": "stderr",
          "text": [
            "WARNING:matplotlib.axes._axes:*c* argument looks like a single numeric RGB or RGBA sequence, which should be avoided as value-mapping will have precedence in case its length matches with *x* & *y*.  Please use the *color* keyword-argument or provide a 2-D array with a single row if you intend to specify the same RGB or RGBA value for all points.\n"
          ]
        },
        {
          "output_type": "display_data",
          "data": {
            "text/plain": [
              "<Figure size 432x288 with 1 Axes>"
            ],
            "image/png": "[encoded data removed]"
          },
          "metadata": {
            "needs_background": "light"
          }
        }
      ]
    },
    {
      "cell_type": "code",
      "source": [],
      "metadata": {
        "id": "OB58DO9LJlND"
      },
      "execution_count": null,
      "outputs": []
    },
    {
      "cell_type": "code",
      "source": [],
      "metadata": {
        "id": "y-WVsf8jJlKh"
      },
      "execution_count": null,
      "outputs": []
    },
    {
      "cell_type": "code",
      "source": [],
      "metadata": {
        "id": "1nBh0ZJBJlH8"
      },
      "execution_count": null,
      "outputs": []
    }
  ]
}